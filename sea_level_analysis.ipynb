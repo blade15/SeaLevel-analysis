{
 "cells": [
  {
   "cell_type": "code",
   "execution_count": null,
   "id": "86dcc902",
   "metadata": {},
   "outputs": [],
   "source": [
    "\n",
    "import pandas as pd\n",
    "import matplotlib.pyplot as plt\n",
    "from scipy.stats import linregress\n",
    "\n",
    "# Load dataset\n",
    "df = pd.read_csv(\"epa-sea-level.csv\")\n",
    "df.head()\n"
   ]
  },
  {
   "cell_type": "code",
   "execution_count": null,
   "id": "38bb1e99",
   "metadata": {},
   "outputs": [],
   "source": [
    "\n",
    "def draw_sea_level_plot():\n",
    "    # Scatter plot\n",
    "    plt.figure(figsize=(12, 6))\n",
    "    plt.scatter(df['Year'], df['CSIRO Adjusted Sea Level'], alpha=0.6, label='Data')\n",
    "\n",
    "    # Fit: all data\n",
    "    res_all = linregress(df['Year'], df['CSIRO Adjusted Sea Level'])\n",
    "    x_all = pd.Series(range(1880, 2051))\n",
    "    y_all = res_all.slope * x_all + res_all.intercept\n",
    "    plt.plot(x_all, y_all, 'r', label='Fit: All Data')\n",
    "\n",
    "    # Fit: data from year 2000\n",
    "    df_2000 = df[df['Year'] >= 2000]\n",
    "    res_2000 = linregress(df_2000['Year'], df_2000['CSIRO Adjusted Sea Level'])\n",
    "    x_recent = pd.Series(range(2000, 2051))\n",
    "    y_recent = res_2000.slope * x_recent + res_2000.intercept\n",
    "    plt.plot(x_recent, y_recent, 'g', label='Fit: 2000–2013')\n",
    "\n",
    "    # Labels and formatting\n",
    "    plt.xlabel('Year')\n",
    "    plt.ylabel('Sea Level (inches)')\n",
    "    plt.title('Rise in Sea Level')\n",
    "    plt.legend()\n",
    "    plt.grid(True)\n",
    "    plt.tight_layout()\n",
    "    return plt.gcf()\n",
    "\n",
    "draw_sea_level_plot()\n",
    "plt.show()\n"
   ]
  }
 ],
 "metadata": {},
 "nbformat": 4,
 "nbformat_minor": 5
}
